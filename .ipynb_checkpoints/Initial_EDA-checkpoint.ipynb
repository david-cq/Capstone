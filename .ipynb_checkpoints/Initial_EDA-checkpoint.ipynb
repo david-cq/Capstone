{
 "cells": [
  {
   "cell_type": "markdown",
   "metadata": {},
   "source": [
    "# Initial EDA"
   ]
  },
  {
   "cell_type": "markdown",
   "metadata": {},
   "source": [
    "## Problem Statement"
   ]
  },
  {
   "cell_type": "markdown",
   "metadata": {},
   "source": [
    "This capstone aims to build a regression model with Houston Rockets data in order to predict how many three-point field goals the Philadelphia 76ers perform in the upcoming NBA season."
   ]
  },
  {
   "cell_type": "code",
   "execution_count": null,
   "metadata": {},
   "outputs": [],
   "source": []
  },
  {
   "cell_type": "markdown",
   "metadata": {},
   "source": [
    "## EDA"
   ]
  },
  {
   "cell_type": "code",
   "execution_count": 24,
   "metadata": {},
   "outputs": [
    {
     "name": "stdout",
     "output_type": "stream",
     "text": [
      "Requirement already satisfied: basketball-reference-scraper in c:\\users\\david\\appdata\\roaming\\python\\python38\\site-packages (1.0.21)\n",
      "Requirement already satisfied: lxml==4.4.2 in c:\\users\\david\\anaconda3\\lib\\site-packages (from basketball-reference-scraper) (4.4.2)\n",
      "Requirement already satisfied: six==1.13.0 in c:\\users\\david\\appdata\\roaming\\python\\python38\\site-packages (from basketball-reference-scraper) (1.13.0)\n",
      "Requirement already satisfied: bs4==0.0.1 in c:\\users\\david\\appdata\\roaming\\python\\python38\\site-packages (from basketball-reference-scraper) (0.0.1)\n",
      "Requirement already satisfied: requests==2.22.0 in c:\\users\\david\\appdata\\roaming\\python\\python38\\site-packages (from basketball-reference-scraper) (2.22.0)\n",
      "Requirement already satisfied: pandas==0.25.3 in c:\\users\\david\\appdata\\roaming\\python\\python38\\site-packages (from basketball-reference-scraper) (0.25.3)\n",
      "Requirement already satisfied: beautifulsoup4==4.8.2 in c:\\users\\david\\anaconda3\\lib\\site-packages (from basketball-reference-scraper) (4.8.2)\n",
      "Requirement already satisfied: pytz==2019.3 in c:\\users\\david\\anaconda3\\lib\\site-packages (from basketball-reference-scraper) (2019.3)\n",
      "Requirement already satisfied: python-dateutil==2.8.1 in c:\\users\\david\\anaconda3\\lib\\site-packages (from basketball-reference-scraper) (2.8.1)\n",
      "Requirement already satisfied: soupsieve==1.9.5 in c:\\users\\david\\anaconda3\\lib\\site-packages (from basketball-reference-scraper) (1.9.5)\n",
      "Requirement already satisfied: numpy==1.18.1 in c:\\users\\david\\anaconda3\\lib\\site-packages (from basketball-reference-scraper) (1.18.1)\n",
      "Requirement already satisfied: certifi>=2017.4.17 in c:\\users\\david\\anaconda3\\lib\\site-packages (from requests==2.22.0->basketball-reference-scraper) (2020.6.20)\n",
      "Requirement already satisfied: chardet<3.1.0,>=3.0.2 in c:\\users\\david\\anaconda3\\lib\\site-packages (from requests==2.22.0->basketball-reference-scraper) (3.0.4)\n",
      "Requirement already satisfied: urllib3!=1.25.0,!=1.25.1,<1.26,>=1.21.1 in c:\\users\\david\\anaconda3\\lib\\site-packages (from requests==2.22.0->basketball-reference-scraper) (1.25.9)\n",
      "Requirement already satisfied: idna<2.9,>=2.5 in c:\\users\\david\\appdata\\roaming\\python\\python38\\site-packages (from requests==2.22.0->basketball-reference-scraper) (2.8)\n"
     ]
    }
   ],
   "source": [
    "# Install basketball_reference_scraper\n",
    "\n",
    "!pip install basketball-reference-scraper --user"
   ]
  },
  {
   "cell_type": "code",
   "execution_count": 25,
   "metadata": {},
   "outputs": [
    {
     "name": "stdout",
     "output_type": "stream",
     "text": [
      "Requirement already satisfied: unidecode in c:\\users\\david\\anaconda3\\lib\\site-packages (1.1.2)\n"
     ]
    }
   ],
   "source": [
    "!pip install unidecode"
   ]
  },
  {
   "cell_type": "code",
   "execution_count": 26,
   "metadata": {},
   "outputs": [],
   "source": [
    "import pandas as pd\n",
    "import numpy as np\n",
    "import requests\n",
    "import unidecode\n",
    "from bs4 import BeautifulSoup\n",
    "\n",
    "from basketball_reference_scraper.players import get_stats, get_game_logs\n",
    "from basketball_reference_scraper.teams import get_roster, get_team_stats, get_opp_stats, get_roster_stats, get_team_misc"
   ]
  },
  {
   "cell_type": "code",
   "execution_count": null,
   "metadata": {},
   "outputs": [],
   "source": [
    "rockets_17_18_roster = ['Ryan Anderson', 'Trevor Ariza', 'Tarik Black',\n",
    "                        'Bobby Brown', 'Markel Brown', 'Isaiah Canaan',\n",
    "                        'Clint Capela', 'Eric Gordon', 'Gerald Green',\n",
    "                        'James Harden', 'Nenê Hilário', 'R.J. Hunter',\n",
    "                        'Aaron Jackson', 'Demetrius Jackson', '']"
   ]
  },
  {
   "cell_type": "code",
   "execution_count": null,
   "metadata": {},
   "outputs": [],
   "source": []
  },
  {
   "cell_type": "code",
   "execution_count": 44,
   "metadata": {},
   "outputs": [
    {
     "name": "stdout",
     "output_type": "stream",
     "text": [
      "You searched for \"Joel Embiid\"\n",
      "1 result found.\n",
      "Joel Embiid\n",
      "Results for Joel Embiid:\n",
      "\n"
     ]
    },
    {
     "data": {
      "text/html": [
       "<div>\n",
       "<style scoped>\n",
       "    .dataframe tbody tr th:only-of-type {\n",
       "        vertical-align: middle;\n",
       "    }\n",
       "\n",
       "    .dataframe tbody tr th {\n",
       "        vertical-align: top;\n",
       "    }\n",
       "\n",
       "    .dataframe thead th {\n",
       "        text-align: right;\n",
       "    }\n",
       "</style>\n",
       "<table border=\"1\" class=\"dataframe\">\n",
       "  <thead>\n",
       "    <tr style=\"text-align: right;\">\n",
       "      <th></th>\n",
       "      <th>SEASON</th>\n",
       "      <th>AGE</th>\n",
       "      <th>TEAM</th>\n",
       "      <th>LEAGUE</th>\n",
       "      <th>POS</th>\n",
       "      <th>G</th>\n",
       "      <th>GS</th>\n",
       "      <th>MP</th>\n",
       "      <th>FG</th>\n",
       "      <th>FGA</th>\n",
       "      <th>...</th>\n",
       "      <th>FT%</th>\n",
       "      <th>ORB</th>\n",
       "      <th>DRB</th>\n",
       "      <th>TRB</th>\n",
       "      <th>AST</th>\n",
       "      <th>STL</th>\n",
       "      <th>BLK</th>\n",
       "      <th>TOV</th>\n",
       "      <th>PF</th>\n",
       "      <th>PTS</th>\n",
       "    </tr>\n",
       "  </thead>\n",
       "  <tbody>\n",
       "    <tr>\n",
       "      <th>0</th>\n",
       "      <td>2014-15</td>\n",
       "      <td>20.0</td>\n",
       "      <td>Did Not Play (injury—foot)</td>\n",
       "      <td>Did Not Play (injury—foot)</td>\n",
       "      <td>Did Not Play (injury—foot)</td>\n",
       "      <td>Did Not Play (injury—foot)</td>\n",
       "      <td>Did Not Play (injury—foot)</td>\n",
       "      <td>Did Not Play (injury—foot)</td>\n",
       "      <td>Did Not Play (injury—foot)</td>\n",
       "      <td>Did Not Play (injury—foot)</td>\n",
       "      <td>...</td>\n",
       "      <td>Did Not Play (injury—foot)</td>\n",
       "      <td>Did Not Play (injury—foot)</td>\n",
       "      <td>Did Not Play (injury—foot)</td>\n",
       "      <td>Did Not Play (injury—foot)</td>\n",
       "      <td>Did Not Play (injury—foot)</td>\n",
       "      <td>Did Not Play (injury—foot)</td>\n",
       "      <td>Did Not Play (injury—foot)</td>\n",
       "      <td>Did Not Play (injury—foot)</td>\n",
       "      <td>Did Not Play (injury—foot)</td>\n",
       "      <td>Did Not Play (injury—foot)</td>\n",
       "    </tr>\n",
       "    <tr>\n",
       "      <th>1</th>\n",
       "      <td>2015-16</td>\n",
       "      <td>21.0</td>\n",
       "      <td>Did Not Play (injury—foot)</td>\n",
       "      <td>Did Not Play (injury—foot)</td>\n",
       "      <td>Did Not Play (injury—foot)</td>\n",
       "      <td>Did Not Play (injury—foot)</td>\n",
       "      <td>Did Not Play (injury—foot)</td>\n",
       "      <td>Did Not Play (injury—foot)</td>\n",
       "      <td>Did Not Play (injury—foot)</td>\n",
       "      <td>Did Not Play (injury—foot)</td>\n",
       "      <td>...</td>\n",
       "      <td>Did Not Play (injury—foot)</td>\n",
       "      <td>Did Not Play (injury—foot)</td>\n",
       "      <td>Did Not Play (injury—foot)</td>\n",
       "      <td>Did Not Play (injury—foot)</td>\n",
       "      <td>Did Not Play (injury—foot)</td>\n",
       "      <td>Did Not Play (injury—foot)</td>\n",
       "      <td>Did Not Play (injury—foot)</td>\n",
       "      <td>Did Not Play (injury—foot)</td>\n",
       "      <td>Did Not Play (injury—foot)</td>\n",
       "      <td>Did Not Play (injury—foot)</td>\n",
       "    </tr>\n",
       "    <tr>\n",
       "      <th>2</th>\n",
       "      <td>2016-17</td>\n",
       "      <td>22.0</td>\n",
       "      <td>PHI</td>\n",
       "      <td>NBA</td>\n",
       "      <td>C</td>\n",
       "      <td>31</td>\n",
       "      <td>31</td>\n",
       "      <td>25.4</td>\n",
       "      <td>6.5</td>\n",
       "      <td>13.8</td>\n",
       "      <td>...</td>\n",
       "      <td>.783</td>\n",
       "      <td>2.0</td>\n",
       "      <td>5.9</td>\n",
       "      <td>7.8</td>\n",
       "      <td>2.1</td>\n",
       "      <td>0.9</td>\n",
       "      <td>2.5</td>\n",
       "      <td>3.8</td>\n",
       "      <td>3.6</td>\n",
       "      <td>20.2</td>\n",
       "    </tr>\n",
       "    <tr>\n",
       "      <th>3</th>\n",
       "      <td>2017-18</td>\n",
       "      <td>23.0</td>\n",
       "      <td>PHI</td>\n",
       "      <td>NBA</td>\n",
       "      <td>C</td>\n",
       "      <td>63</td>\n",
       "      <td>63</td>\n",
       "      <td>30.3</td>\n",
       "      <td>8.1</td>\n",
       "      <td>16.8</td>\n",
       "      <td>...</td>\n",
       "      <td>.769</td>\n",
       "      <td>2.3</td>\n",
       "      <td>8.7</td>\n",
       "      <td>11.0</td>\n",
       "      <td>3.2</td>\n",
       "      <td>0.6</td>\n",
       "      <td>1.8</td>\n",
       "      <td>3.7</td>\n",
       "      <td>3.3</td>\n",
       "      <td>22.9</td>\n",
       "    </tr>\n",
       "    <tr>\n",
       "      <th>4</th>\n",
       "      <td>2018-19</td>\n",
       "      <td>24.0</td>\n",
       "      <td>PHI</td>\n",
       "      <td>NBA</td>\n",
       "      <td>C</td>\n",
       "      <td>64</td>\n",
       "      <td>64</td>\n",
       "      <td>33.7</td>\n",
       "      <td>9.1</td>\n",
       "      <td>18.7</td>\n",
       "      <td>...</td>\n",
       "      <td>.804</td>\n",
       "      <td>2.5</td>\n",
       "      <td>11.1</td>\n",
       "      <td>13.6</td>\n",
       "      <td>3.7</td>\n",
       "      <td>0.7</td>\n",
       "      <td>1.9</td>\n",
       "      <td>3.5</td>\n",
       "      <td>3.3</td>\n",
       "      <td>27.5</td>\n",
       "    </tr>\n",
       "    <tr>\n",
       "      <th>5</th>\n",
       "      <td>2019-20</td>\n",
       "      <td>25.0</td>\n",
       "      <td>PHI</td>\n",
       "      <td>NBA</td>\n",
       "      <td>C</td>\n",
       "      <td>51</td>\n",
       "      <td>51</td>\n",
       "      <td>29.5</td>\n",
       "      <td>7.5</td>\n",
       "      <td>15.7</td>\n",
       "      <td>...</td>\n",
       "      <td>.807</td>\n",
       "      <td>2.8</td>\n",
       "      <td>8.9</td>\n",
       "      <td>11.6</td>\n",
       "      <td>3.0</td>\n",
       "      <td>0.9</td>\n",
       "      <td>1.3</td>\n",
       "      <td>3.1</td>\n",
       "      <td>3.4</td>\n",
       "      <td>23.0</td>\n",
       "    </tr>\n",
       "  </tbody>\n",
       "</table>\n",
       "<p>6 rows × 30 columns</p>\n",
       "</div>"
      ],
      "text/plain": [
       "    SEASON   AGE                        TEAM                      LEAGUE  \\\n",
       "0  2014-15  20.0  Did Not Play (injury—foot)  Did Not Play (injury—foot)   \n",
       "1  2015-16  21.0  Did Not Play (injury—foot)  Did Not Play (injury—foot)   \n",
       "2  2016-17  22.0                         PHI                         NBA   \n",
       "3  2017-18  23.0                         PHI                         NBA   \n",
       "4  2018-19  24.0                         PHI                         NBA   \n",
       "5  2019-20  25.0                         PHI                         NBA   \n",
       "\n",
       "                          POS                           G  \\\n",
       "0  Did Not Play (injury—foot)  Did Not Play (injury—foot)   \n",
       "1  Did Not Play (injury—foot)  Did Not Play (injury—foot)   \n",
       "2                           C                          31   \n",
       "3                           C                          63   \n",
       "4                           C                          64   \n",
       "5                           C                          51   \n",
       "\n",
       "                           GS                          MP  \\\n",
       "0  Did Not Play (injury—foot)  Did Not Play (injury—foot)   \n",
       "1  Did Not Play (injury—foot)  Did Not Play (injury—foot)   \n",
       "2                          31                        25.4   \n",
       "3                          63                        30.3   \n",
       "4                          64                        33.7   \n",
       "5                          51                        29.5   \n",
       "\n",
       "                           FG                         FGA  ...  \\\n",
       "0  Did Not Play (injury—foot)  Did Not Play (injury—foot)  ...   \n",
       "1  Did Not Play (injury—foot)  Did Not Play (injury—foot)  ...   \n",
       "2                         6.5                        13.8  ...   \n",
       "3                         8.1                        16.8  ...   \n",
       "4                         9.1                        18.7  ...   \n",
       "5                         7.5                        15.7  ...   \n",
       "\n",
       "                          FT%                         ORB  \\\n",
       "0  Did Not Play (injury—foot)  Did Not Play (injury—foot)   \n",
       "1  Did Not Play (injury—foot)  Did Not Play (injury—foot)   \n",
       "2                        .783                         2.0   \n",
       "3                        .769                         2.3   \n",
       "4                        .804                         2.5   \n",
       "5                        .807                         2.8   \n",
       "\n",
       "                          DRB                         TRB  \\\n",
       "0  Did Not Play (injury—foot)  Did Not Play (injury—foot)   \n",
       "1  Did Not Play (injury—foot)  Did Not Play (injury—foot)   \n",
       "2                         5.9                         7.8   \n",
       "3                         8.7                        11.0   \n",
       "4                        11.1                        13.6   \n",
       "5                         8.9                        11.6   \n",
       "\n",
       "                          AST                         STL  \\\n",
       "0  Did Not Play (injury—foot)  Did Not Play (injury—foot)   \n",
       "1  Did Not Play (injury—foot)  Did Not Play (injury—foot)   \n",
       "2                         2.1                         0.9   \n",
       "3                         3.2                         0.6   \n",
       "4                         3.7                         0.7   \n",
       "5                         3.0                         0.9   \n",
       "\n",
       "                          BLK                         TOV  \\\n",
       "0  Did Not Play (injury—foot)  Did Not Play (injury—foot)   \n",
       "1  Did Not Play (injury—foot)  Did Not Play (injury—foot)   \n",
       "2                         2.5                         3.8   \n",
       "3                         1.8                         3.7   \n",
       "4                         1.9                         3.5   \n",
       "5                         1.3                         3.1   \n",
       "\n",
       "                           PF                         PTS  \n",
       "0  Did Not Play (injury—foot)  Did Not Play (injury—foot)  \n",
       "1  Did Not Play (injury—foot)  Did Not Play (injury—foot)  \n",
       "2                         3.6                        20.2  \n",
       "3                         3.3                        22.9  \n",
       "4                         3.3                        27.5  \n",
       "5                         3.4                        23.0  \n",
       "\n",
       "[6 rows x 30 columns]"
      ]
     },
     "execution_count": 44,
     "metadata": {},
     "output_type": "execute_result"
    }
   ],
   "source": [
    "get_stats(_name='Joel Embiid', stat_type='PER_GAME', playoffs=False, career=False)"
   ]
  },
  {
   "cell_type": "code",
   "execution_count": 43,
   "metadata": {},
   "outputs": [
    {
     "name": "stdout",
     "output_type": "stream",
     "text": [
      "You searched for \"Ben Simmons\"\n",
      "4 results found.\n",
      "0: Ben Simmons\n",
      "1: Bobby Simmons\n",
      "2: Grant Simmons\n",
      "3: Kobi Simmons\n"
     ]
    },
    {
     "name": "stdin",
     "output_type": "stream",
     "text": [
      "Pick one:  0\n"
     ]
    },
    {
     "name": "stdout",
     "output_type": "stream",
     "text": [
      "Results for Ben Simmons:\n",
      "\n"
     ]
    },
    {
     "data": {
      "text/plain": [
       "37    0\n",
       "38    0\n",
       "39    0\n",
       "40    0\n",
       "42    0\n",
       "43    0\n",
       "44    0\n",
       "45    0\n",
       "46    0\n",
       "47    0\n",
       "48    0\n",
       "49    0\n",
       "50    0\n",
       "51    0\n",
       "52    0\n",
       "53    0\n",
       "54    0\n",
       "55    0\n",
       "56    0\n",
       "58    0\n",
       "Name: 3P, dtype: object"
      ]
     },
     "execution_count": 43,
     "metadata": {},
     "output_type": "execute_result"
    }
   ],
   "source": [
    "df = get_game_logs('Ben Simmons', '2020-01-01', '2020-03-11', playoffs=False)\n",
    "df['3P']"
   ]
  },
  {
   "cell_type": "code",
   "execution_count": null,
   "metadata": {},
   "outputs": [],
   "source": []
  },
  {
   "cell_type": "code",
   "execution_count": null,
   "metadata": {},
   "outputs": [],
   "source": []
  },
  {
   "cell_type": "code",
   "execution_count": null,
   "metadata": {},
   "outputs": [],
   "source": []
  },
  {
   "cell_type": "code",
   "execution_count": null,
   "metadata": {},
   "outputs": [],
   "source": []
  },
  {
   "cell_type": "code",
   "execution_count": null,
   "metadata": {},
   "outputs": [],
   "source": []
  },
  {
   "cell_type": "code",
   "execution_count": null,
   "metadata": {},
   "outputs": [],
   "source": []
  },
  {
   "cell_type": "code",
   "execution_count": null,
   "metadata": {},
   "outputs": [],
   "source": []
  },
  {
   "cell_type": "code",
   "execution_count": null,
   "metadata": {},
   "outputs": [],
   "source": []
  },
  {
   "cell_type": "code",
   "execution_count": null,
   "metadata": {},
   "outputs": [],
   "source": []
  },
  {
   "cell_type": "code",
   "execution_count": null,
   "metadata": {},
   "outputs": [],
   "source": []
  },
  {
   "cell_type": "code",
   "execution_count": null,
   "metadata": {},
   "outputs": [],
   "source": []
  },
  {
   "cell_type": "code",
   "execution_count": null,
   "metadata": {},
   "outputs": [],
   "source": []
  },
  {
   "cell_type": "code",
   "execution_count": null,
   "metadata": {},
   "outputs": [],
   "source": []
  },
  {
   "cell_type": "code",
   "execution_count": null,
   "metadata": {},
   "outputs": [],
   "source": []
  },
  {
   "cell_type": "code",
   "execution_count": null,
   "metadata": {},
   "outputs": [],
   "source": []
  },
  {
   "cell_type": "markdown",
   "metadata": {},
   "source": [
    "## Sources\n",
    "- https://www.basketball-reference.com/\n",
    "- https://github.com/vishaalagartha/basketball_reference_scraper\n",
    "- https://pypi.org/project/Unidecode/"
   ]
  },
  {
   "cell_type": "code",
   "execution_count": null,
   "metadata": {},
   "outputs": [],
   "source": []
  }
 ],
 "metadata": {
  "kernelspec": {
   "display_name": "Python 3",
   "language": "python",
   "name": "python3"
  },
  "language_info": {
   "codemirror_mode": {
    "name": "ipython",
    "version": 3
   },
   "file_extension": ".py",
   "mimetype": "text/x-python",
   "name": "python",
   "nbconvert_exporter": "python",
   "pygments_lexer": "ipython3",
   "version": "3.8.3"
  }
 },
 "nbformat": 4,
 "nbformat_minor": 4
}
