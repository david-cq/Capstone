{
 "cells": [
  {
   "cell_type": "markdown",
   "metadata": {},
   "source": [
    "# Initial EDA"
   ]
  },
  {
   "cell_type": "markdown",
   "metadata": {},
   "source": [
    "## Problem Statement"
   ]
  },
  {
   "cell_type": "markdown",
   "metadata": {},
   "source": [
    "This capstone aims to build a regression model with Houston Rockets data in order to predict how many three-point field goals the Philadelphia 76ers make in the upcoming NBA season."
   ]
  },
  {
   "cell_type": "markdown",
   "metadata": {},
   "source": [
    "## EDA"
   ]
  },
  {
   "cell_type": "markdown",
   "metadata": {},
   "source": [
    "The basketball_reference_scraper is a python package that helps aggregate statistics on NBA teams, seasons, players, and games in a more efficient way."
   ]
  },
  {
   "cell_type": "code",
   "execution_count": 24,
   "metadata": {},
   "outputs": [
    {
     "name": "stdout",
     "output_type": "stream",
     "text": [
      "Requirement already satisfied: basketball-reference-scraper in c:\\users\\david\\appdata\\roaming\\python\\python38\\site-packages (1.0.21)\n",
      "Requirement already satisfied: lxml==4.4.2 in c:\\users\\david\\anaconda3\\lib\\site-packages (from basketball-reference-scraper) (4.4.2)\n",
      "Requirement already satisfied: six==1.13.0 in c:\\users\\david\\appdata\\roaming\\python\\python38\\site-packages (from basketball-reference-scraper) (1.13.0)\n",
      "Requirement already satisfied: bs4==0.0.1 in c:\\users\\david\\appdata\\roaming\\python\\python38\\site-packages (from basketball-reference-scraper) (0.0.1)\n",
      "Requirement already satisfied: requests==2.22.0 in c:\\users\\david\\appdata\\roaming\\python\\python38\\site-packages (from basketball-reference-scraper) (2.22.0)\n",
      "Requirement already satisfied: pandas==0.25.3 in c:\\users\\david\\appdata\\roaming\\python\\python38\\site-packages (from basketball-reference-scraper) (0.25.3)\n",
      "Requirement already satisfied: beautifulsoup4==4.8.2 in c:\\users\\david\\anaconda3\\lib\\site-packages (from basketball-reference-scraper) (4.8.2)\n",
      "Requirement already satisfied: pytz==2019.3 in c:\\users\\david\\anaconda3\\lib\\site-packages (from basketball-reference-scraper) (2019.3)\n",
      "Requirement already satisfied: python-dateutil==2.8.1 in c:\\users\\david\\anaconda3\\lib\\site-packages (from basketball-reference-scraper) (2.8.1)\n",
      "Requirement already satisfied: soupsieve==1.9.5 in c:\\users\\david\\anaconda3\\lib\\site-packages (from basketball-reference-scraper) (1.9.5)\n",
      "Requirement already satisfied: numpy==1.18.1 in c:\\users\\david\\anaconda3\\lib\\site-packages (from basketball-reference-scraper) (1.18.1)\n",
      "Requirement already satisfied: certifi>=2017.4.17 in c:\\users\\david\\anaconda3\\lib\\site-packages (from requests==2.22.0->basketball-reference-scraper) (2020.6.20)\n",
      "Requirement already satisfied: chardet<3.1.0,>=3.0.2 in c:\\users\\david\\anaconda3\\lib\\site-packages (from requests==2.22.0->basketball-reference-scraper) (3.0.4)\n",
      "Requirement already satisfied: urllib3!=1.25.0,!=1.25.1,<1.26,>=1.21.1 in c:\\users\\david\\anaconda3\\lib\\site-packages (from requests==2.22.0->basketball-reference-scraper) (1.25.9)\n",
      "Requirement already satisfied: idna<2.9,>=2.5 in c:\\users\\david\\appdata\\roaming\\python\\python38\\site-packages (from requests==2.22.0->basketball-reference-scraper) (2.8)\n"
     ]
    }
   ],
   "source": [
    "# Install basketball_reference_scraper\n",
    "\n",
    "!pip install basketball-reference-scraper --user"
   ]
  },
  {
   "cell_type": "code",
   "execution_count": 25,
   "metadata": {},
   "outputs": [
    {
     "name": "stdout",
     "output_type": "stream",
     "text": [
      "Requirement already satisfied: unidecode in c:\\users\\david\\anaconda3\\lib\\site-packages (1.1.2)\n"
     ]
    }
   ],
   "source": [
    "!pip install unidecode"
   ]
  },
  {
   "cell_type": "code",
   "execution_count": 26,
   "metadata": {},
   "outputs": [],
   "source": [
    "import pandas as pd\n",
    "import numpy as np\n",
    "import requests\n",
    "import unidecode\n",
    "from bs4 import BeautifulSoup\n",
    "\n",
    "from basketball_reference_scraper.players import get_stats, get_game_logs\n",
    "from basketball_reference_scraper.teams import get_roster, get_team_stats, get_opp_stats, get_roster_stats, get_team_misc"
   ]
  },
  {
   "cell_type": "markdown",
   "metadata": {},
   "source": [
    "The 2017-2018 Houston Rockets is the team with the most 3-pointers made in an NBA season, with a total of 1,184 three-point field goals. Because of this, data from each player on the 17-18 Rockets will be scraped."
   ]
  },
  {
   "cell_type": "markdown",
   "metadata": {},
   "source": [
    "Disclaimer: the code below is a work in progress, so there are still errors I have to fix."
   ]
  },
  {
   "cell_type": "code",
   "execution_count": 45,
   "metadata": {},
   "outputs": [],
   "source": [
    "rockets_17_18_roster = ['Ryan Anderson', 'Trevor Ariza', 'Tarik Black',\n",
    "                        'Bobby Brown', 'Markel Brown', 'Isaiah Canaan',\n",
    "                        'Clint Capela', 'Eric Gordon', 'Gerald Green',\n",
    "                        'James Harden', 'Nenê Hilário', 'R.J. Hunter',\n",
    "                        'Aaron Jackson', 'Demetrius Jackson', 'Joe Johnson',\n",
    "                        'Luc Mbah a Moute', 'Chinanu Onuaku', 'Chris Paul',\n",
    "                        'Zhou Qi', 'Tim Quarterman', 'P.J. Tucker',\n",
    "                        'Briante Weber', 'Troy Williams', 'Brandan Wright']"
   ]
  },
  {
   "cell_type": "code",
   "execution_count": 57,
   "metadata": {},
   "outputs": [
    {
     "name": "stdout",
     "output_type": "stream",
     "text": [
      "You searched for \"Ryan Anderson\"\n",
      "14 results found.\n",
      "0: Ryan Anderson\n",
      "1: Alan Anderson\n",
      "2: Dan Anderson\n",
      "3: Dan Anderson\n",
      "4: Ron Anderson\n",
      "5: Kyle Anderson\n",
      "6: Eric Anderson\n",
      "7: Greg Anderson\n",
      "8: J.J. Anderson\n",
      "9: Kenny Anderson\n",
      "10: Kim Anderson\n",
      "11: Nick Anderson\n",
      "12: Alan Henderson\n",
      "13: Ryan Robertson\n"
     ]
    },
    {
     "name": "stdin",
     "output_type": "stream",
     "text": [
      "Pick one:  0\n"
     ]
    },
    {
     "name": "stdout",
     "output_type": "stream",
     "text": [
      "Results for Ryan Anderson:\n",
      "\n",
      "You searched for \"Trevor Ariza\"\n",
      "1 result found.\n",
      "Trevor Ariza\n",
      "Results for Trevor Ariza:\n",
      "\n",
      "You searched for \"Tarik Black\"\n",
      "3 results found.\n",
      "0: Tarik Black\n",
      "1: Charlie Black\n",
      "2: Tom Black\n"
     ]
    },
    {
     "name": "stdin",
     "output_type": "stream",
     "text": [
      "Pick one:  0\n"
     ]
    },
    {
     "name": "stdout",
     "output_type": "stream",
     "text": [
      "Results for Tarik Black:\n",
      "\n",
      "You searched for \"Bobby Brown\"\n",
      "14 results found.\n",
      "0: Bobby Brown\n",
      "1: Bob Brown\n",
      "2: Tony Brown\n",
      "3: Bobby Croft\n",
      "4: Bruce Brown\n",
      "5: John Brown\n",
      "6: Larry Brown\n",
      "7: Moses Brown\n",
      "8: Randy Brown\n",
      "9: Roger Brown\n",
      "10: Roger Brown\n",
      "11: Troy Brown\n",
      "12: Bobby Cook\n",
      "13: Bobby Lloyd\n"
     ]
    },
    {
     "name": "stdin",
     "output_type": "stream",
     "text": [
      "Pick one:  0\n"
     ]
    },
    {
     "name": "stdout",
     "output_type": "stream",
     "text": [
      "Results for Bobby Brown:\n",
      "\n",
      "You searched for \"Markel Brown\"\n",
      "14 results found.\n",
      "0: Markel Brown\n",
      "1: Darrell Brown\n",
      "2: Marcus Brown\n",
      "3: Mike Brown\n",
      "4: Fred Brown\n",
      "5: Harold Brown\n",
      "6: Jaylen Brown\n",
      "7: Larry Brown\n",
      "8: Moses Brown\n",
      "9: Myron Brown\n",
      "10: Rickey Brown\n",
      "11: Mark Crow\n",
      "12: Mark Blount\n",
      "13: Mark Bryant\n"
     ]
    },
    {
     "name": "stdin",
     "output_type": "stream",
     "text": [
      "Pick one:  0\n"
     ]
    },
    {
     "name": "stdout",
     "output_type": "stream",
     "text": [
      "Results for Markel Brown:\n",
      "\n",
      "You searched for \"Isaiah Canaan\"\n",
      "1 result found.\n",
      "Isaiah Canaan\n",
      "Results for Isaiah Canaan:\n",
      "\n",
      "You searched for \"Clint Capela\"\n",
      "3 results found.\n",
      "0: Clint Capela\n",
      "1: Clint Wager\n",
      "2: Clint McDaniel\n"
     ]
    },
    {
     "name": "stdin",
     "output_type": "stream",
     "text": [
      "Pick one:  0\n"
     ]
    },
    {
     "name": "stdout",
     "output_type": "stream",
     "text": [
      "Results for Clint Capela:\n",
      "\n"
     ]
    },
    {
     "ename": "AttributeError",
     "evalue": "'NoneType' object has no attribute 'replace'",
     "output_type": "error",
     "traceback": [
      "\u001b[1;31m---------------------------------------------------------------------------\u001b[0m",
      "\u001b[1;31mAttributeError\u001b[0m                            Traceback (most recent call last)",
      "\u001b[1;32m<ipython-input-57-8b2001a0756e>\u001b[0m in \u001b[0;36m<module>\u001b[1;34m\u001b[0m\n\u001b[0;32m      1\u001b[0m \u001b[1;32mfor\u001b[0m \u001b[0mplayer\u001b[0m \u001b[1;32min\u001b[0m \u001b[0mrockets_17_18_roster\u001b[0m\u001b[1;33m:\u001b[0m\u001b[1;33m\u001b[0m\u001b[1;33m\u001b[0m\u001b[0m\n\u001b[1;32m----> 2\u001b[1;33m     \u001b[0mrocket_stat\u001b[0m \u001b[1;33m=\u001b[0m \u001b[0mget_stats\u001b[0m\u001b[1;33m(\u001b[0m\u001b[0m_name\u001b[0m\u001b[1;33m=\u001b[0m\u001b[0mplayer\u001b[0m\u001b[1;33m,\u001b[0m \u001b[0mstat_type\u001b[0m\u001b[1;33m=\u001b[0m\u001b[1;34m'PER_GAME'\u001b[0m\u001b[1;33m,\u001b[0m \u001b[0mplayoffs\u001b[0m\u001b[1;33m=\u001b[0m\u001b[1;32mFalse\u001b[0m\u001b[1;33m,\u001b[0m \u001b[0mcareer\u001b[0m\u001b[1;33m=\u001b[0m\u001b[1;32mFalse\u001b[0m\u001b[1;33m)\u001b[0m\u001b[1;33m\u001b[0m\u001b[1;33m\u001b[0m\u001b[0m\n\u001b[0m\u001b[0;32m      3\u001b[0m     \u001b[0mrocket_stat\u001b[0m\u001b[1;33m[\u001b[0m\u001b[0mrocket_stat\u001b[0m\u001b[1;33m[\u001b[0m\u001b[1;34m'SEASON'\u001b[0m\u001b[1;33m]\u001b[0m \u001b[1;33m==\u001b[0m \u001b[1;34m'2017-18'\u001b[0m\u001b[1;33m]\u001b[0m\u001b[1;33m\u001b[0m\u001b[1;33m\u001b[0m\u001b[0m\n",
      "\u001b[1;32m~\\AppData\\Roaming\\Python\\Python38\\site-packages\\basketball_reference_scraper\\players.py\u001b[0m in \u001b[0;36mget_stats\u001b[1;34m(_name, stat_type, playoffs, career)\u001b[0m\n\u001b[0;32m     12\u001b[0m \u001b[1;32mdef\u001b[0m \u001b[0mget_stats\u001b[0m\u001b[1;33m(\u001b[0m\u001b[0m_name\u001b[0m\u001b[1;33m,\u001b[0m \u001b[0mstat_type\u001b[0m\u001b[1;33m=\u001b[0m\u001b[1;34m'PER_GAME'\u001b[0m\u001b[1;33m,\u001b[0m \u001b[0mplayoffs\u001b[0m\u001b[1;33m=\u001b[0m\u001b[1;32mFalse\u001b[0m\u001b[1;33m,\u001b[0m \u001b[0mcareer\u001b[0m\u001b[1;33m=\u001b[0m\u001b[1;32mFalse\u001b[0m\u001b[1;33m)\u001b[0m\u001b[1;33m:\u001b[0m\u001b[1;33m\u001b[0m\u001b[1;33m\u001b[0m\u001b[0m\n\u001b[0;32m     13\u001b[0m     \u001b[0mname\u001b[0m \u001b[1;33m=\u001b[0m \u001b[0mlookup\u001b[0m\u001b[1;33m(\u001b[0m\u001b[0m_name\u001b[0m\u001b[1;33m)\u001b[0m\u001b[1;33m\u001b[0m\u001b[1;33m\u001b[0m\u001b[0m\n\u001b[1;32m---> 14\u001b[1;33m     \u001b[0msuffix\u001b[0m \u001b[1;33m=\u001b[0m \u001b[0mget_player_suffix\u001b[0m\u001b[1;33m(\u001b[0m\u001b[0mname\u001b[0m\u001b[1;33m)\u001b[0m\u001b[1;33m.\u001b[0m\u001b[0mreplace\u001b[0m\u001b[1;33m(\u001b[0m\u001b[1;34m'/'\u001b[0m\u001b[1;33m,\u001b[0m \u001b[1;34m'%2F'\u001b[0m\u001b[1;33m)\u001b[0m\u001b[1;33m\u001b[0m\u001b[1;33m\u001b[0m\u001b[0m\n\u001b[0m\u001b[0;32m     15\u001b[0m     \u001b[0mselector\u001b[0m \u001b[1;33m=\u001b[0m \u001b[0mstat_type\u001b[0m\u001b[1;33m.\u001b[0m\u001b[0mlower\u001b[0m\u001b[1;33m(\u001b[0m\u001b[1;33m)\u001b[0m\u001b[1;33m\u001b[0m\u001b[1;33m\u001b[0m\u001b[0m\n\u001b[0;32m     16\u001b[0m     \u001b[1;32mif\u001b[0m \u001b[0mplayoffs\u001b[0m\u001b[1;33m:\u001b[0m\u001b[1;33m\u001b[0m\u001b[1;33m\u001b[0m\u001b[0m\n",
      "\u001b[1;31mAttributeError\u001b[0m: 'NoneType' object has no attribute 'replace'"
     ]
    }
   ],
   "source": [
    "for player in rockets_17_18_roster:\n",
    "    rocket_stat = get_stats(_name=player, stat_type='PER_GAME', playoffs=False, career=False)\n",
    "    rocket_stat[rocket_stat['SEASON'] == '2017-18']"
   ]
  },
  {
   "cell_type": "code",
   "execution_count": null,
   "metadata": {},
   "outputs": [],
   "source": []
  },
  {
   "cell_type": "code",
   "execution_count": null,
   "metadata": {},
   "outputs": [],
   "source": []
  },
  {
   "cell_type": "markdown",
   "metadata": {},
   "source": [
    "## Sources\n",
    "- https://www.basketball-reference.com/\n",
    "- https://github.com/vishaalagartha/basketball_reference_scraper\n",
    "- https://pypi.org/project/Unidecode/"
   ]
  },
  {
   "cell_type": "code",
   "execution_count": null,
   "metadata": {},
   "outputs": [],
   "source": []
  }
 ],
 "metadata": {
  "kernelspec": {
   "display_name": "Python 3",
   "language": "python",
   "name": "python3"
  },
  "language_info": {
   "codemirror_mode": {
    "name": "ipython",
    "version": 3
   },
   "file_extension": ".py",
   "mimetype": "text/x-python",
   "name": "python",
   "nbconvert_exporter": "python",
   "pygments_lexer": "ipython3",
   "version": "3.8.3"
  }
 },
 "nbformat": 4,
 "nbformat_minor": 4
}
